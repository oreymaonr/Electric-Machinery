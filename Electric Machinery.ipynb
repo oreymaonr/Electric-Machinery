{
 "cells": [
  {
   "cell_type": "markdown",
   "metadata": {},
   "source": [
    "# Magnetic Circuits and magnetic materials"
   ]
  },
  {
   "cell_type": "markdown",
   "metadata": {},
   "source": [
    "# Problem 1: \n",
    "<figure>\n",
    "<img src=\"./photo-electrical-machines/fig1.jpg\" alt=\"fig_1\" width=\"200px\">\n",
    "<figcaption> fig 1 </figcaption>\n",
    "</figure>\n",
    "\n",
    "Magnetic circuit as shown in `fig 1`\\\n",
    "$A_c$ = $A_g$ = 9 $cm^2$ \\\n",
    "$g$ = 0.050 cm\\\n",
    "$l_c$ = 30\\\n",
    "$N$ = 500\\\n",
    "$\\mu_r$=70000\\\n",
    "$R_c$ =?\\\n",
    "$R_g$ =?\\\n",
    "find $\\phi$ and $i$ when $B_c$ = 1.0T\\\n",
    "Equations:\n",
    "\\begin{equation}\n",
    "\\tag{1}\n",
    "R_c = \\frac{l_c}{\\mu_r \\mu_0  A_c}\n",
    "\\end{equation}\n",
    "\\begin{equation*}\n",
    "\\tag{2}\n",
    "R_g = \\frac{g}{\\mu_0  A_g}\n",
    "\\end{equation*}\n",
    "\\begin{equation*}\n",
    "\\tag{3}\n",
    "\\phi = B_c A_c\n",
    "\\end{equation*}\n",
    "\\begin{equation*}\n",
    "\\tag{4}\n",
    "i = \\frac{mmf}{N} = \\frac{\\phi(R_c+R_g)}{N}\n",
    "\\end{equation*}\n",
    "\n",
    "\n",
    "Comments \\\n",
    "g = $l_g$ at easy understanding\n",
    "\n",
    "\n",
    "\n"
   ]
  },
  {
   "cell_type": "code",
   "execution_count": 50,
   "metadata": {},
   "outputs": [
    {
     "name": "stdout",
     "output_type": "stream",
     "text": [
      "R_c is : 3.79E+03 Ampere.turns/weber\n",
      "R_g is : 4.421E+05 Ampere.turns/weber\n",
      "Phi value is : 9.00E-04 Weber\n",
      "Current i is : 0.803 Amperes\n"
     ]
    }
   ],
   "source": [
    "import math \n",
    "#problem 1 code\n",
    "\n",
    "#given \n",
    "a_g = a_c = 9*10**-4 #m\n",
    "g = 0.050*10**-2\n",
    "mu_r = 70000\n",
    "mu_0 = 4*math.pi*10**-7\n",
    "l_c = 30*10**-2\n",
    "N = 500\n",
    "B_c = 1.0\n",
    "\n",
    "# Finding R_g and R_c\n",
    "\n",
    "# Equation 1\n",
    "def find__R_c(l_c,mu_r,mu_0,a_c):\n",
    "    # Ampere turns / Weber\n",
    "    return l_c/(mu_r*mu_0*a_c) \n",
    "# Equation 2\n",
    "def find__R_g(g,mu_0,a_g):\n",
    "    # Ampere turns / Weber\n",
    "    return (g/(mu_0*a_g) )\n",
    "\n",
    "R_c = find__R_c(l_c,mu_r,mu_0,a_c)\n",
    "R_g = find__R_g(g,mu_0,a_g) \n",
    "print(\"R_c is :\",\"{0:.2E}\".format(R_c),\"Ampere.turns/weber\")\n",
    "print(\"R_g is :\",\"{0:.3E}\".format(R_g),\"Ampere.turns/weber\")\n",
    "\n",
    "# Finding flux phi : in Weber(Wb)\n",
    "# Equation 3\n",
    "phi = B_c * a_c\n",
    "print(\"Phi value is :\",\"{0:.2E}\".format(phi),\"Weber\")\n",
    "\n",
    "#Equation 4: Finding Current\n",
    "def find_i(phi,R_c,R_g,N):\n",
    "    return phi*(R_c+R_g)/N\n",
    "i = phi*(R_c+R_g)/N\n",
    "print(\"Current i is :\",\"{0:.3}\".format(i),\"Amperes\")"
   ]
  },
  {
   "cell_type": "markdown",
   "metadata": {},
   "source": [
    "# problem 1.1\n",
    "1. N = 1000 **doubled** \n",
    "2. g = 0.040 $cm$ \\\n",
    "for the above problem, Then find the flux and current in both cases"
   ]
  },
  {
   "cell_type": "code",
   "execution_count": 51,
   "metadata": {},
   "outputs": [
    {
     "name": "stdout",
     "output_type": "stream",
     "text": [
      "Current i is : 0.401 Amperes\n",
      "Current i is : 0.64 Amperes\n"
     ]
    }
   ],
   "source": [
    "# The values which changed\n",
    "N = 1000\n",
    "#R_c is same as no input is changed\n",
    "#R_g is same as no input is changed\n",
    "#phi is the same as no input is changed\n",
    "#i changes as N is doubled\n",
    "i = find_i(phi,R_c,R_g,N)\n",
    "print(\"Current i is :\",\"{0:.3}\".format(i),\"Amperes\")\n",
    "\n",
    "#The values which changed\n",
    "g = 0.040*10**-2\n",
    "N=500 #N changed back to 500 i.e not doubled\n",
    "#R_c is same as no input is changed\n",
    "#R_g is changed so,\n",
    "#phi is same as no input is changed\n",
    "#i changes as R_g changes\n",
    "R_g = find__R_g(g,mu_0,a_g)\n",
    "#print(\"R_g is :\",\"{0:.3E}\".format(R_g),\"Ampere.turns/weber\")\n",
    "\n",
    "i = find_i(phi,R_c,R_g,N)\n",
    "print(\"Current i is :\",\"{0:.2}\".format(i),\"Amperes\")\n"
   ]
  },
  {
   "cell_type": "code",
   "execution_count": 69,
   "metadata": {},
   "outputs": [
    {
     "data": {
      "image/png": "[encoded data removed]",
      "text/plain": [
       "<Figure size 640x480 with 1 Axes>"
      ]
     },
     "metadata": {},
     "output_type": "display_data"
    }
   ],
   "source": [
    "# Graphical Understanding of varing the gap length and changes in current\n",
    "import numpy as np\n",
    "import matplotlib.pyplot as plt\n",
    "\n",
    "g_values = np.arange(start=0.010,stop=0.100,step=0.001) \n",
    "\n",
    "i = find_i(phi,R_c,find__R_g(g_values,mu_0,a_g),N) *10**-2\n",
    "\n",
    "plt.plot(g_values,i,color='red')\n",
    "plt.xlabel(\"gap length in centi meter\")\n",
    "plt.ylabel(\"current in Ampere\")\n",
    "plt.show()\n"
   ]
  }
 ],
 "metadata": {
  "interpreter": {
   "hash": "f233a6aeabd190ea61446b59b62ae3ee57e30af49330662303d9b40ec131e777"
  },
  "kernelspec": {
   "display_name": "Python 3 (ipykernel)",
   "language": "python",
   "name": "python3"
  },
  "language_info": {
   "codemirror_mode": {
    "name": "ipython",
    "version": 3
   },
   "file_extension": ".py",
   "mimetype": "text/x-python",
   "name": "python",
   "nbconvert_exporter": "python",
   "pygments_lexer": "ipython3",
   "version": "3.9.0"
  }
 },
 "nbformat": 4,
 "nbformat_minor": 4
}
