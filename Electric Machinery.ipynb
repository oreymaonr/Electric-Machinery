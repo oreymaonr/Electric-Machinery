{
 "cells": [
  {
   "cell_type": "markdown",
   "metadata": {},
   "source": [
    "# Magnetic Circuits and magnetic materials"
   ]
  },
  {
   "cell_type": "markdown",
   "metadata": {},
   "source": [
    "## Example 1.1: \n",
    "<figure>\n",
    "<img src=\"./photo-electrical-machines/fig1.jpg\" alt=\"fig_1\" width=\"200px\">\n",
    "<figcaption> fig 1 </figcaption>\n",
    "</figure>\n",
    "\n",
    "Magnetic circuit as shown in `fig 1`\\\n",
    "$A_c$ = $A_g$ = 9 $cm^2$ \\\n",
    "$g$ = 0.050 cm\\\n",
    "$l_c$ = 30\\\n",
    "$N$ = 500\\\n",
    "$\\mu_r$=70000\\\n",
    "$R_c$ =?\\\n",
    "$R_g$ =?\\\n",
    "find $\\phi$ and $i$ when $B_c$ = 1.0T\\\n",
    "Equations:\n",
    "\\begin{equation}\n",
    "\\tag{1.1.1}\n",
    "R_c = \\frac{l_c}{\\mu_r \\mu_0  A_c}\n",
    "\\end{equation}\n",
    "\\begin{equation*}\n",
    "\\tag{1.1.2}\n",
    "R_g = \\frac{g}{\\mu_0  A_g}\n",
    "\\end{equation*}\n",
    "\\begin{equation*}\n",
    "\\tag{1.1.3}\n",
    "\\phi = B_c A_c\n",
    "\\end{equation*}\n",
    "\\begin{equation*}\n",
    "\\tag{1.1.4}\n",
    "i = \\frac{mmf}{N} = \\frac{\\phi(R_c+R_g)}{N}\n",
    "\\end{equation*}\n",
    "\n",
    "\n",
    "Comments \\\n",
    "g = $l_g$ at easy understanding\n",
    "\n",
    "\n",
    "\n"
   ]
  },
  {
   "cell_type": "code",
   "execution_count": 21,
   "metadata": {},
   "outputs": [
    {
     "name": "stdout",
     "output_type": "stream",
     "text": [
      "R_c is : 3.79E+03 Ampere.turns/weber\n",
      "R_g is : 4.421E+05 Ampere.turns/weber\n",
      "Phi value is : 9.00E-04 Weber\n",
      "Current i is : 0.803 Amperes\n"
     ]
    }
   ],
   "source": [
    "import math \n",
    "#problem 1 code\n",
    "\n",
    "#given \n",
    "a_g = a_c = 9*10**-4 #m\n",
    "g = 0.050*10**-2\n",
    "mu_r = 70000\n",
    "mu_0 = 4*math.pi*10**-7\n",
    "l_c = 30*10**-2\n",
    "N = 500\n",
    "B_c = 1.0\n",
    "\n",
    "# Finding R_g and R_c\n",
    "\n",
    "# Equation 1\n",
    "def find__R_c(l_c,mu_r,mu_0,a_c):\n",
    "    # Ampere turns / Weber\n",
    "    return l_c/(mu_r*mu_0*a_c) \n",
    "# Equation 2\n",
    "def find__R_g(g,mu_0,a_g):\n",
    "    # Ampere turns / Weber\n",
    "    return (g/(mu_0*a_g) )\n",
    "\n",
    "R_c = find__R_c(l_c,mu_r,mu_0,a_c)\n",
    "R_g = find__R_g(g,mu_0,a_g) \n",
    "print(\"R_c is :\",\"{0:.2E}\".format(R_c),\"Ampere.turns/weber\")\n",
    "print(\"R_g is :\",\"{0:.3E}\".format(R_g),\"Ampere.turns/weber\")\n",
    "\n",
    "# Finding flux phi : in Weber(Wb)\n",
    "# Equation 3\n",
    "phi = B_c * a_c\n",
    "print(\"Phi value is :\",\"{0:.2E}\".format(phi),\"Weber\")\n",
    "\n",
    "#Equation 4: Finding Current\n",
    "def find_i(phi,R_c,R_g,N):\n",
    "    return phi*(R_c+R_g)/N\n",
    "i = phi*(R_c+R_g)/N\n",
    "print(\"Current i is :\",\"{0:.3}\".format(i),\"Amperes\")"
   ]
  },
  {
   "cell_type": "markdown",
   "metadata": {},
   "source": [
    "### sub Example 1.1\n",
    "1. N = 1000 **doubled** \n",
    "2. g = 0.040 $cm$ \\\n",
    "for the above problem, Then find the flux and current in both cases"
   ]
  },
  {
   "cell_type": "code",
   "execution_count": 22,
   "metadata": {},
   "outputs": [
    {
     "name": "stdout",
     "output_type": "stream",
     "text": [
      "Current i is : 0.401 Amperes\n",
      "Current i is : 0.64 Amperes\n"
     ]
    }
   ],
   "source": [
    "# The values which changed\n",
    "N = 1000\n",
    "#R_c is same as no input is changed\n",
    "#R_g is same as no input is changed\n",
    "#phi is the same as no input is changed\n",
    "#i changes as N is doubled\n",
    "i = find_i(phi,R_c,R_g,N)\n",
    "print(\"Current i is :\",\"{0:.3}\".format(i),\"Amperes\")\n",
    "\n",
    "#The values which changed\n",
    "g = 0.040*10**-2\n",
    "N=500 #N changed back to 500 i.e not doubled\n",
    "#R_c is same as no input is changed\n",
    "#R_g is changed so,\n",
    "#phi is same as no input is changed\n",
    "#i changes as R_g changes\n",
    "R_g = find__R_g(g,mu_0,a_g)\n",
    "#print(\"R_g is :\",\"{0:.3E}\".format(R_g),\"Ampere.turns/weber\")\n",
    "\n",
    "i = find_i(phi,R_c,R_g,N)\n",
    "print(\"Current i is :\",\"{0:.2}\".format(i),\"Amperes\")\n"
   ]
  },
  {
   "cell_type": "code",
   "execution_count": 58,
   "metadata": {},
   "outputs": [
    {
     "data": {
      "image/png": "[encoded data removed]",
      "text/plain": [
       "<Figure size 400x300 with 1 Axes>"
      ]
     },
     "metadata": {},
     "output_type": "display_data"
    }
   ],
   "source": [
    "# Graphical Understanding of varing the gap length and changes in current\n",
    "import numpy as np\n",
    "import matplotlib.pyplot as plt\n",
    "\n",
    "g_values = np.arange(start=0.010,stop=0.100,step=0.001) \n",
    "\n",
    "i = find_i(phi,R_c,find__R_g(g_values,mu_0,a_g),N) *10**-2\n",
    "\n",
    "plt.figure(figsize=(4,3))\n",
    "plt.plot(g_values,i,color='red')\n",
    "plt.xlabel(\"gap length in centi meter\")\n",
    "plt.ylabel(\"current in Ampere\")\n",
    "plt.show()\n"
   ]
  },
  {
   "cell_type": "markdown",
   "metadata": {},
   "source": [
    "## Example 1.2:\n",
    "The magnetic structure of a synchronous machine is shown in figure . Assuming the rotor and stator iron have infinite permeability ($\\mu$ -> $\\infty$), find the air gap flux $\\phi$ and flux density $B_g$. For this example I=10A, N=1000 turns,g=1 cm and $A_g$=2000 $cm^2$ \\\n",
    "Equations:\n",
    "\\begin{equation*}\n",
    "\\tag{1.2.1}\n",
    "\\phi = \\frac{NI\\mu_0A_g}{2g}\n",
    "\\end{equation*}\n",
    "\\begin{equation*}\n",
    "\\tag{1.2.2}\n",
    "\\phi = B_gA_g\n",
    "\\end{equation*}\n",
    "Comments:\n",
    "it is $2g$ beacause the gap length is occuring twice"
   ]
  },
  {
   "cell_type": "code",
   "execution_count": 24,
   "metadata": {},
   "outputs": [
    {
     "name": "stdout",
     "output_type": "stream",
     "text": [
      "The flux in the air gap is : 0.13 Weber\n",
      "The flux density in the air gap is : 0.63 Tesla\n"
     ]
    }
   ],
   "source": [
    "I=10\n",
    "N=1000\n",
    "g=1*10**-2\n",
    "a_g=2000*10**-4\n",
    "#equation 2.1\n",
    "phi = N*I*mu_0*a_g/(2*g)\n",
    "print(\"The flux in the air gap is :\",\"{0:.2}\".format(phi),\"Weber\")\n",
    "# equation 2.2\n",
    "b_g = phi/a_g\n",
    "print(\"The flux density in the air gap is :\",\"{0:.2}\".format(b_g),\"Tesla\")"
   ]
  },
  {
   "cell_type": "markdown",
   "metadata": {},
   "source": [
    "## Example 1.4\n",
    "In example 1.1 and considering `fig 1` \n",
    "$\\mu_r$ = 70000, flux density B =1.0T\n",
    "1. calculate the inductance of the winding\\\n",
    "The core might be constructed from the electical steel such as **M-5** so the $\\mu_r$ changes as \\\n",
    "    a. $\\mu_r$ = 72300 at B = 1.0T\\\n",
    "    b. $\\mu_r$ = 2900 at B = 1.8T\\\n",
    "2. so calculate the inductance when $\\mu_r$=72300\n",
    "3. so calculate the inductance when $\\mu_r$=2900\n",
    "\n",
    "Equations:\n",
    "\\begin{equation*}\n",
    "\\tag{1.4.1}\n",
    "L = \\frac{\\lambda}{i} = \\frac{N\\phi}{i} = \\frac{N^2(R_1+R_2)}{R_1R_2} = \\frac{N^2}{R_{total}} = \\mu_0N^2\\left(\\frac{A_1}{g_1} + \\frac{A_2}{g_2} \\right)\n",
    "\\end{equation*}\n"
   ]
  },
  {
   "cell_type": "code",
   "execution_count": 41,
   "metadata": {},
   "outputs": [
    {
     "name": "stdout",
     "output_type": "stream",
     "text": [
      "mu_r--------------------72300\n",
      "Reluctance of the core is  3.67E+03 Ampere.turns/Weber\n",
      "Reluctance of the air gap is  4.42E+05 Ampere.turns/Weber\n",
      "Total Reluctance 4.46E+05 Ampere.turns/Weber\n",
      "Inductance is  0.561 Henry\n",
      "mu_r--------------------2900\n",
      "Reluctance of the core is  9.15E+04 Ampere.turns/Weber\n",
      "Reluctance of the air gap is  4.42E+05 Ampere.turns/Weber\n",
      "Total Reluctance 5.34E+05 Ampere.turns/Weber\n",
      "Inductance is  0.469 Henry\n"
     ]
    }
   ],
   "source": [
    "#resetting values\n",
    "g = 0.05 *10**-2\n",
    "a_g = 9*10**-4\n",
    "N=500\n",
    "r_g = find__R_g(g,mu_0,a_g)\n",
    "print(\"mu_r--------------------72300\")\n",
    "# finding reluctance of the core : mu_r = 72300\n",
    "#new value of mu_r\n",
    "mu_r = 72300\n",
    "#finding r_c as r_g is the same as before\n",
    "r_c = find__R_c(l_c,mu_r,mu_0,a_c)\n",
    "print(\"Reluctance of the core is \",\"{0:.2E}\".format(r_c),\"Ampere.turns/Weber\")\n",
    "print(\"Reluctance of the air gap is \",\"{0:.2E}\".format(r_g),\"Ampere.turns/Weber\")\n",
    "#total reluctance\n",
    "r_tot = r_c + r_g\n",
    "print(\"Total Reluctance\",\"{0:.2E}\".format(r_tot),\"Ampere.turns/Weber\")\n",
    "# as per equation 1.4.1\n",
    "L = N*N/r_tot\n",
    "print(\"Inductance is \",\"{0:.3}\".format(L),\"Henry\")\n",
    "print(\"mu_r--------------------2900\")\n",
    "# finding reluctance of the core : mu_r = 2900\n",
    "#new value of mu_r\n",
    "mu_r = 2900\n",
    "#finding r_c as r_g is the same as before\n",
    "r_c = find__R_c(l_c,mu_r,mu_0,a_c)\n",
    "print(\"Reluctance of the core is \",\"{0:.2E}\".format(r_c),\"Ampere.turns/Weber\")\n",
    "print(\"Reluctance of the air gap is \",\"{0:.2E}\".format(r_g),\"Ampere.turns/Weber\")\n",
    "#total reluctance\n",
    "r_tot = r_c + r_g\n",
    "print(\"Total Reluctance\",\"{0:.2E}\".format(r_tot),\"Ampere.turns/Weber\")\n",
    "# as per equation 1.4.1\n",
    "L = N*N/r_tot\n",
    "print(\"Inductance is \",\"{0:.3}\".format(L),\"Henry\")"
   ]
  },
  {
   "cell_type": "markdown",
   "metadata": {},
   "source": [
    "### Code when the reluctance varies from 100 to 100000"
   ]
  },
  {
   "cell_type": "code",
   "execution_count": 61,
   "metadata": {},
   "outputs": [
    {
     "data": {
      "image/png": "[encoded data removed]",
      "text/plain": [
       "<Figure size 400x300 with 1 Axes>"
      ]
     },
     "metadata": {},
     "output_type": "display_data"
    }
   ],
   "source": [
    "mu_r_points  = np.arange(100,100000,10)\n",
    "#finding r_c as r_g is the same as before\n",
    "r_c_points = find__R_c(l_c,mu_r_points,mu_0,a_c)\n",
    "#total reluctance\n",
    "r_tot_points = r_c_points + r_g\n",
    "# as per equation 1.4.1\n",
    "L_points = N*N/r_tot_points\n",
    "plt.figure(figsize=(4, 3))\n",
    "plt.plot(mu_r_points,L_points,color = \"blue\")\n",
    "plt.xlabel(\"mu_r\")\n",
    "plt.xlim(0,80000)\n",
    "plt.ylabel(\"Inductance\")\n",
    "plt.show()"
   ]
  },
  {
   "cell_type": "markdown",
   "metadata": {},
   "source": []
  }
 ],
 "metadata": {
  "interpreter": {
   "hash": "f233a6aeabd190ea61446b59b62ae3ee57e30af49330662303d9b40ec131e777"
  },
  "kernelspec": {
   "display_name": "Python 3 (ipykernel)",
   "language": "python",
   "name": "python3"
  },
  "language_info": {
   "codemirror_mode": {
    "name": "ipython",
    "version": 3
   },
   "file_extension": ".py",
   "mimetype": "text/x-python",
   "name": "python",
   "nbconvert_exporter": "python",
   "pygments_lexer": "ipython3",
   "version": "3.9.0"
  }
 },
 "nbformat": 4,
 "nbformat_minor": 4
}
